{
  "nbformat": 4,
  "nbformat_minor": 0,
  "metadata": {
    "colab": {
      "provenance": [],
      "authorship_tag": "ABX9TyOy7c3PzvveoRlYUzUFG0+r",
      "include_colab_link": true
    },
    "kernelspec": {
      "name": "python3",
      "display_name": "Python 3"
    },
    "language_info": {
      "name": "python"
    }
  },
  "cells": [
    {
      "cell_type": "markdown",
      "metadata": {
        "id": "view-in-github",
        "colab_type": "text"
      },
      "source": [
        "<a href=\"https://colab.research.google.com/github/sridhar8910/python_from_beginning/blob/main/day2.ipynb\" target=\"_parent\"><img src=\"https://colab.research.google.com/assets/colab-badge.svg\" alt=\"Open In Colab\"/></a>"
      ]
    },
    {
      "cell_type": "markdown",
      "source": [
        "#**Python**  \n",
        "Todays session we read about Variables and Data types   \n",
        "#**Variables**\n",
        "A Variable means  storage area to hold data.   \n",
        "**name = 20**  \n",
        "Here \"**name**\" is variable.  \n",
        "Python has no command for declaring a Variable.  \n",
        "Let's see some examples."
      ],
      "metadata": {
        "id": "eIHa36UbQnfw"
      }
    },
    {
      "cell_type": "code",
      "source": [
        "A=10\n",
        "B=\"My Name\"\n",
        "print(A)\n",
        "print(B)"
      ],
      "metadata": {
        "colab": {
          "base_uri": "https://localhost:8080/"
        },
        "id": "leBJNeUHQkRY",
        "outputId": "d72efc00-eb64-4d11-f5d6-961604584c19"
      },
      "execution_count": null,
      "outputs": [
        {
          "output_type": "stream",
          "name": "stdout",
          "text": [
            "10\n",
            "My Name\n"
          ]
        }
      ]
    },
    {
      "cell_type": "code",
      "source": [
        "car=\"Volvo\"\n",
        "model=\"2022\"\n",
        "print(car)\n",
        "print(model)"
      ],
      "metadata": {
        "colab": {
          "base_uri": "https://localhost:8080/"
        },
        "id": "A0QTXVIgT8j7",
        "outputId": "e9cf7d7e-648b-446f-df18-a31b9afd50ff"
      },
      "execution_count": null,
      "outputs": [
        {
          "output_type": "stream",
          "name": "stdout",
          "text": [
            "Volvo\n",
            "2022\n"
          ]
        }
      ]
    },
    {
      "cell_type": "markdown",
      "source": [
        "Variables can be declared either by using single or double quotes:   \n",
        "ex:\n"
      ],
      "metadata": {
        "id": "v8MoC4xXUuwX"
      }
    },
    {
      "cell_type": "code",
      "source": [
        "a='model'\n",
        "print(a)"
      ],
      "metadata": {
        "colab": {
          "base_uri": "https://localhost:8080/"
        },
        "id": "rhSzrYr-XOnM",
        "outputId": "3613d648-c58d-4ce3-c2a3-2235d9366791"
      },
      "execution_count": null,
      "outputs": [
        {
          "output_type": "stream",
          "name": "stdout",
          "text": [
            "model\n"
          ]
        }
      ]
    },
    {
      "cell_type": "code",
      "source": [
        "b=\"model\"\n",
        "print(b)\n"
      ],
      "metadata": {
        "colab": {
          "base_uri": "https://localhost:8080/"
        },
        "id": "qI4a-kAgXVdi",
        "outputId": "7ee0d086-a5fd-4edb-e99f-b69bd9401bb6"
      },
      "execution_count": null,
      "outputs": [
        {
          "output_type": "stream",
          "name": "stdout",
          "text": [
            "model\n"
          ]
        }
      ]
    },
    {
      "cell_type": "markdown",
      "source": [
        "**Case-Sensitive**  \n",
        "Case sensitivity defines whether uppercase and lowercase letters are treated as distinct (case-sensitive) or equivalent (case-insensitive).  \n",
        "ex:  "
      ],
      "metadata": {
        "id": "8ZpqOJakYYBM"
      }
    },
    {
      "cell_type": "code",
      "source": [
        "a=\"my name\"\n",
        "A=\"sri\"\n",
        "print(A)"
      ],
      "metadata": {
        "colab": {
          "base_uri": "https://localhost:8080/"
        },
        "id": "jGWtiDQIZUdJ",
        "outputId": "5421afa6-4119-4b0a-85bb-f8d7a9158cf3"
      },
      "execution_count": null,
      "outputs": [
        {
          "output_type": "stream",
          "name": "stdout",
          "text": [
            "sri\n"
          ]
        }
      ]
    },
    {
      "cell_type": "markdown",
      "source": [
        "**Naming Python Variables**  \n",
        "Name may be short or descriptive name. Naming is know as identication.  \n",
        "We learn identifier."
      ],
      "metadata": {
        "id": "2enp5UBhfrQK"
      }
    },
    {
      "cell_type": "code",
      "source": [
        "#short naming\n",
        "a=\"my name\"\n",
        "print(a)\n"
      ],
      "metadata": {
        "colab": {
          "base_uri": "https://localhost:8080/"
        },
        "id": "itlHaHeCgv61",
        "outputId": "3307c810-27e2-434f-b0ef-b004196d99d4"
      },
      "execution_count": 1,
      "outputs": [
        {
          "output_type": "stream",
          "name": "stdout",
          "text": [
            "my name\n"
          ]
        }
      ]
    },
    {
      "cell_type": "code",
      "source": [
        "#descriptive name\n",
        "car_name=\"Volvo\"\n",
        "print(car_name)"
      ],
      "metadata": {
        "colab": {
          "base_uri": "https://localhost:8080/"
        },
        "id": "tdvx4Lf2g2Q3",
        "outputId": "166c85e6-41ba-42b9-f971-5559b94f301d"
      },
      "execution_count": 3,
      "outputs": [
        {
          "output_type": "stream",
          "name": "stdout",
          "text": [
            "Volvo\n"
          ]
        }
      ]
    },
    {
      "cell_type": "code",
      "source": [
        "#descriptive name\n",
        "car=\"Volvo\"\n",
        "print(car)\n"
      ],
      "metadata": {
        "colab": {
          "base_uri": "https://localhost:8080/"
        },
        "id": "rjlK0EDNhEpB",
        "outputId": "9d20a6e4-8dae-4b5c-d636-4cf5c6750cd6"
      },
      "execution_count": 4,
      "outputs": [
        {
          "output_type": "stream",
          "name": "stdout",
          "text": [
            "Volvo\n"
          ]
        }
      ]
    },
    {
      "cell_type": "markdown",
      "source": [
        "#**Data types in python**    \n",
        "In computer programming, data types specify the type of data that can be stored inside a variable.\n",
        "![image.png](data:image/png;base64,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)   \n",
        "Let see some examples:\n"
      ],
      "metadata": {
        "id": "TRDmXGG9indm"
      }
    },
    {
      "cell_type": "code",
      "source": [
        "#Hello is str \n",
        "a=\"hello\"\n",
        "print(type(a))"
      ],
      "metadata": {
        "colab": {
          "base_uri": "https://localhost:8080/"
        },
        "id": "JzL2uG6OpRvc",
        "outputId": "9f2919d6-af0c-44f4-bf8d-ae7149d5e1ab"
      },
      "execution_count": 5,
      "outputs": [
        {
          "output_type": "stream",
          "name": "stdout",
          "text": [
            "<class 'str'>\n"
          ]
        }
      ]
    },
    {
      "cell_type": "code",
      "source": [
        "#1 is str\n",
        "a=2122\n",
        "print(type(a))"
      ],
      "metadata": {
        "colab": {
          "base_uri": "https://localhost:8080/"
        },
        "id": "3I7nM2l5pbv2",
        "outputId": "61be07ad-1819-460d-9bd9-5c09378c71f9"
      },
      "execution_count": 6,
      "outputs": [
        {
          "output_type": "stream",
          "name": "stdout",
          "text": [
            "<class 'int'>\n"
          ]
        }
      ]
    },
    {
      "cell_type": "code",
      "source": [
        "#12.5 is float\n",
        "a=12.5\n",
        "print(type(a))"
      ],
      "metadata": {
        "colab": {
          "base_uri": "https://localhost:8080/"
        },
        "id": "RwbgJ4tVpve4",
        "outputId": "a1b3a5dd-8e3a-4280-e7dd-894f89976965"
      },
      "execution_count": 7,
      "outputs": [
        {
          "output_type": "stream",
          "name": "stdout",
          "text": [
            "<class 'float'>\n"
          ]
        }
      ]
    },
    {
      "cell_type": "code",
      "source": [
        "#ij is complex\n",
        "a=1j\n",
        "print(type(a))\n"
      ],
      "metadata": {
        "colab": {
          "base_uri": "https://localhost:8080/"
        },
        "id": "YlE1D5_Fp26K",
        "outputId": "737652de-ddc8-4f1d-ae88-9495efcaf567"
      },
      "execution_count": 8,
      "outputs": [
        {
          "output_type": "stream",
          "name": "stdout",
          "text": [
            "<class 'complex'>\n"
          ]
        }
      ]
    },
    {
      "cell_type": "code",
      "source": [
        "# a is list\n",
        "a = [\"apple\", \"banana\", \"cherry\"]\n",
        "print(type(a))"
      ],
      "metadata": {
        "colab": {
          "base_uri": "https://localhost:8080/"
        },
        "id": "D6wi2UJcqD0H",
        "outputId": "d397328a-336c-4841-e918-82a10e6927c4"
      },
      "execution_count": 9,
      "outputs": [
        {
          "output_type": "stream",
          "name": "stdout",
          "text": [
            "<class 'list'>\n"
          ]
        }
      ]
    },
    {
      "cell_type": "code",
      "source": [
        "#a is tuple\n",
        "a = (\"apple\", \"banana\", \"cherry\")\n",
        "print(type(a))"
      ],
      "metadata": {
        "colab": {
          "base_uri": "https://localhost:8080/"
        },
        "id": "plpW-PBZqRKe",
        "outputId": "3a71a9e3-0ba1-499e-d4ea-4f8bd4c82c92"
      },
      "execution_count": 10,
      "outputs": [
        {
          "output_type": "stream",
          "name": "stdout",
          "text": [
            "<class 'tuple'>\n"
          ]
        }
      ]
    },
    {
      "cell_type": "code",
      "source": [
        "#a is dict\n",
        "a = dict(name=\"sri\", age=36)\n",
        "print(type(a))"
      ],
      "metadata": {
        "colab": {
          "base_uri": "https://localhost:8080/"
        },
        "id": "xdtjE9OPqeF9",
        "outputId": "5085a964-42a4-4725-b9c5-d6b2ad4e1e2d"
      },
      "execution_count": 12,
      "outputs": [
        {
          "output_type": "stream",
          "name": "stdout",
          "text": [
            "<class 'dict'>\n"
          ]
        }
      ]
    }
  ]
}
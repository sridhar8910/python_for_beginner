{
  "nbformat": 4,
  "nbformat_minor": 0,
  "metadata": {
    "colab": {
      "provenance": [],
      "authorship_tag": "ABX9TyPWsGYrNparkX2iP2roRtRy",
      "include_colab_link": true
    },
    "kernelspec": {
      "name": "python3",
      "display_name": "Python 3"
    },
    "language_info": {
      "name": "python"
    }
  },
  "cells": [
    {
      "cell_type": "markdown",
      "metadata": {
        "id": "view-in-github",
        "colab_type": "text"
      },
      "source": [
        "<a href=\"https://colab.research.google.com/github/sridhar8910/python_from_beginning/blob/main/day3.ipynb\" target=\"_parent\"><img src=\"https://colab.research.google.com/assets/colab-badge.svg\" alt=\"Open In Colab\"/></a>"
      ]
    },
    {
      "cell_type": "markdown",
      "source": [
        "#**Python**\n",
        "Today's session we learn about Python Numbers, Type Conversion and Mathematics.  \n",
        "**Number**  \n",
        "There are three numeric types in Python:\n",
        "\n",
        "*  Integer  - holds signed integers of non-limited length.\n",
        "*  float  - holds floating decimal points and it's accurate up to 15 decimal places.\n",
        "*  complex  - holds complex numbers.\n"
      ],
      "metadata": {
        "id": "TEf5m6_Ptc2o"
      }
    },
    {
      "cell_type": "code",
      "execution_count": 1,
      "metadata": {
        "colab": {
          "base_uri": "https://localhost:8080/"
        },
        "id": "_8lAqT-btVjc",
        "outputId": "f6d3cd60-bd24-42f8-936c-0af2147a8687"
      },
      "outputs": [
        {
          "output_type": "stream",
          "name": "stdout",
          "text": [
            "2\n",
            "2.32\n",
            "1j\n",
            "<class 'int'>\n",
            "<class 'float'>\n",
            "<class 'complex'>\n"
          ]
        }
      ],
      "source": [
        "a = 2    \n",
        "b = 2.32  \n",
        "c = 1j  \n",
        "print(a)\n",
        "print(b)\n",
        "print(c)\n",
        "print(type(a))\n",
        "print(type(b))\n",
        "print(type(c))"
      ]
    },
    {
      "cell_type": "markdown",
      "source": [
        "We can write negative and positive numbers in Integer\n",
        "\n",
        "\n"
      ],
      "metadata": {
        "id": "eUKyEJ-xxJIE"
      }
    },
    {
      "cell_type": "code",
      "source": [
        "a = 2\n",
        "b = 23422342423\n",
        "c = -32423435\n",
        "print(a)\n",
        "print(b)\n",
        "print(c)\n",
        "print(type(a))\n",
        "print(type(b))\n",
        "print(type(c))"
      ],
      "metadata": {
        "colab": {
          "base_uri": "https://localhost:8080/"
        },
        "id": "8Npd1juaw6r1",
        "outputId": "5870177b-97b2-4b7f-a278-6b72af183051"
      },
      "execution_count": 2,
      "outputs": [
        {
          "output_type": "stream",
          "name": "stdout",
          "text": [
            "2\n",
            "23422342423\n",
            "-32423435\n",
            "<class 'int'>\n",
            "<class 'int'>\n",
            "<class 'int'>\n"
          ]
        }
      ]
    },
    {
      "cell_type": "markdown",
      "source": [
        "Float is a number, positive or negative, containing one or more decimals."
      ],
      "metadata": {
        "id": "T75COGoWyZ-J"
      }
    },
    {
      "cell_type": "code",
      "source": [
        "a = 1.10\n",
        "b = 1.0\n",
        "c = -35.59\n",
        "print(a)\n",
        "print(b)\n",
        "print(c)\n",
        "print(type(a))\n",
        "print(type(b))\n",
        "print(type(c))"
      ],
      "metadata": {
        "colab": {
          "base_uri": "https://localhost:8080/"
        },
        "id": "tJV2mrWiyeTW",
        "outputId": "6623892e-0702-4e6e-a6a7-b9855a6d6ff0"
      },
      "execution_count": 3,
      "outputs": [
        {
          "output_type": "stream",
          "name": "stdout",
          "text": [
            "1.1\n",
            "1.0\n",
            "-35.59\n",
            "<class 'float'>\n",
            "<class 'float'>\n",
            "<class 'float'>\n"
          ]
        }
      ]
    },
    {
      "cell_type": "markdown",
      "source": [
        "Float can also be scientific numbers with an \"e\" to indicate the power of 10."
      ],
      "metadata": {
        "id": "scWRqEYNysO1"
      }
    },
    {
      "cell_type": "code",
      "source": [
        "a = 235e5\n",
        "b = 2E2\n",
        "c = -2343.6e10\n",
        "print(a)\n",
        "print(b)\n",
        "print(c)\n",
        "print(type(a))\n",
        "print(type(b))\n",
        "print(type(c))\n"
      ],
      "metadata": {
        "colab": {
          "base_uri": "https://localhost:8080/"
        },
        "id": "2eWap-BjytF6",
        "outputId": "12b21078-4505-4f28-a9cc-06966d094b09"
      },
      "execution_count": 5,
      "outputs": [
        {
          "output_type": "stream",
          "name": "stdout",
          "text": [
            "23500000.0\n",
            "200.0\n",
            "-23436000000000.0\n",
            "<class 'float'>\n",
            "<class 'float'>\n",
            "<class 'float'>\n"
          ]
        }
      ]
    },
    {
      "cell_type": "markdown",
      "source": [
        "Complex number are written with a \"j\" as the imaginary part:  \n",
        "ex:1 + 2j"
      ],
      "metadata": {
        "id": "wUfz4v3BzU0F"
      }
    },
    {
      "cell_type": "code",
      "source": [
        "a = 4+6j\n",
        "b = 4j\n",
        "c = -4j\n",
        "print(a)\n",
        "print(b)\n",
        "print(c)\n",
        "print(type(a))\n",
        "print(type(b))\n",
        "print(type(c))"
      ],
      "metadata": {
        "colab": {
          "base_uri": "https://localhost:8080/"
        },
        "id": "Y8IluX_CzAn0",
        "outputId": "e182d57e-f842-427e-dbdb-67e9122b4f03"
      },
      "execution_count": 7,
      "outputs": [
        {
          "output_type": "stream",
          "name": "stdout",
          "text": [
            "(4+6j)\n",
            "4j\n",
            "(-0-4j)\n",
            "<class 'complex'>\n",
            "<class 'complex'>\n",
            "<class 'complex'>\n"
          ]
        }
      ]
    },
    {
      "cell_type": "markdown",
      "source": [
        "You can convert from one type to another type with using int(), float(), and complex().  \n",
        "ex:"
      ],
      "metadata": {
        "id": "VL5zUdv3z8-b"
      }
    },
    {
      "cell_type": "code",
      "execution_count": 10,
      "metadata": {
        "colab": {
          "base_uri": "https://localhost:8080/"
        },
        "outputId": "8a48032f-b03c-4347-ea28-2d2490ffea95",
        "id": "5DQlhPav0Zbj"
      },
      "outputs": [
        {
          "output_type": "stream",
          "name": "stdout",
          "text": [
            "2\n",
            "5.32\n",
            "1j\n",
            "<class 'int'>\n",
            "<class 'float'>\n",
            "<class 'complex'>\n",
            "2.0\n",
            "5\n",
            "(2+0j)\n",
            "<class 'float'>\n",
            "<class 'int'>\n",
            "<class 'complex'>\n"
          ]
        }
      ],
      "source": [
        "a = 2    \n",
        "b = 5.32  \n",
        "c = 1j  \n",
        "print(a)\n",
        "print(b)\n",
        "print(c)\n",
        "print(type(a))\n",
        "print(type(b))\n",
        "print(type(c))\n",
        "#convert from int to float:\n",
        "x=float(a)\n",
        "#convert from float to int:\n",
        "y= int(b)\n",
        "#convert from int to complex:\n",
        "z=complex(a)\n",
        "print(x)\n",
        "print(y)\n",
        "print(z)\n",
        "print(type(x))\n",
        "print(type(y))\n",
        "print(type(z))\n"
      ]
    },
    {
      "cell_type": "code",
      "source": [],
      "metadata": {
        "id": "MB1vWhyr05xw"
      },
      "execution_count": null,
      "outputs": []
    }
  ]
}
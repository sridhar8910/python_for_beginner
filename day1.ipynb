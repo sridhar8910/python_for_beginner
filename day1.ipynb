{
  "nbformat": 4,
  "nbformat_minor": 0,
  "metadata": {
    "colab": {
      "provenance": [],
      "authorship_tag": "ABX9TyMpqCg1p8g+K4DCWEgns2Zr",
      "include_colab_link": true
    },
    "kernelspec": {
      "name": "python3",
      "display_name": "Python 3"
    },
    "language_info": {
      "name": "python"
    }
  },
  "cells": [
    {
      "cell_type": "markdown",
      "metadata": {
        "id": "view-in-github",
        "colab_type": "text"
      },
      "source": [
        "<a href=\"https://colab.research.google.com/github/sridhar8910/python_from_beginning/blob/main/day1.ipynb\" target=\"_parent\"><img src=\"https://colab.research.google.com/assets/colab-badge.svg\" alt=\"Open In Colab\"/></a>"
      ]
    },
    {
      "cell_type": "markdown",
      "source": [
        "# **Python**\n",
        "**Let we what is python?**   \n",
        "Python is a programming langauage. Its is created by Guido van Rossum on the year of 1991.\n",
        "\n",
        "We use Python in\n",
        "\n",
        "1.   Web applications\n",
        "2.   Software\n",
        "3.   Database system\n",
        "4.   Perform complex mathematics.\n",
        "**Highlights of python**\n",
        "*   Python is similar to the English language.\n",
        "*   It has less syntax when we campare with other computer langauages.\n",
        "*   Python is similarities to the English language.\n",
        "\n",
        "**How to download**\n",
        "\n",
        "We can download new version python from [python.org](https://www.python.org/)\n",
        "(OR) We can use python in different platfroms like\n",
        "\n",
        "*   PyCharm \n",
        "(To download pychram  [pycharm.com](https://www.jetbrains.com/pycharm/))\n",
        "*   Anaconda (To download anaconda [anaconda.com](https://www.anaconda.com/)).\n",
        "\n",
        "```\n",
        "In anaconda we will get all types platform to compile Python programme.\n",
        "\n",
        "```"
      ],
      "metadata": {
        "id": "Tk7iV_czzSpN"
      }
    },
    {
      "cell_type": "markdown",
      "source": [
        "# **Python**  \n",
        "Todays session we read about syntax errors and comments  \n",
        "**How to write a python code**  \n",
        "we can write programme in single line\n",
        "\n"
      ],
      "metadata": {
        "id": "NQ3EAB_rE5af"
      }
    },
    {
      "cell_type": "code",
      "execution_count": 1,
      "metadata": {
        "id": "EYA8dkN1y-hT",
        "colab": {
          "base_uri": "https://localhost:8080/"
        },
        "outputId": "b08e5809-001f-4755-84e4-aea26e2469cb"
      },
      "outputs": [
        {
          "output_type": "stream",
          "name": "stdout",
          "text": [
            "HELLO WORLD!\n"
          ]
        }
      ],
      "source": [
        "print(\"HELLO WORLD!\")"
      ]
    }
  ]
}
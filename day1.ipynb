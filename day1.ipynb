{
  "nbformat": 4,
  "nbformat_minor": 0,
  "metadata": {
    "colab": {
      "provenance": [],
      "authorship_tag": "ABX9TyO/whZYmJdCOocgynL5Q63x",
      "include_colab_link": true
    },
    "kernelspec": {
      "name": "python3",
      "display_name": "Python 3"
    },
    "language_info": {
      "name": "python"
    }
  },
  "cells": [
    {
      "cell_type": "markdown",
      "metadata": {
        "id": "view-in-github",
        "colab_type": "text"
      },
      "source": [
        "<a href=\"https://colab.research.google.com/github/sridhar8910/python_from_beginning/blob/main/day1.ipynb\" target=\"_parent\"><img src=\"https://colab.research.google.com/assets/colab-badge.svg\" alt=\"Open In Colab\"/></a>"
      ]
    },
    {
      "cell_type": "markdown",
      "source": [
        "# **Python**\n",
        "**Let we what is python?**   \n",
        "Python is a programming langauage. Its is created by Guido van Rossum on the year of 1991.\n",
        "\n",
        "We use Python in\n",
        "\n",
        "1.   Web applications\n",
        "2.   Software\n",
        "3.   Database system\n",
        "4.   Perform complex mathematics.\n",
        "**Highlights of python**\n",
        "*   Python is similar to the English language.\n",
        "*   It has less syntax when we campare with other computer langauages.\n",
        "*   Python is similarities to the English language.\n",
        "\n",
        "**How to download**\n",
        "\n",
        "We can download new version python from [python.org](https://www.python.org/)\n",
        "(OR) We can use python in different platfroms like\n",
        "\n",
        "*   PyCharm \n",
        "(To download pychram  [pycharm.com](https://www.jetbrains.com/pycharm/))\n",
        "*   Anaconda (To download anaconda [anaconda.com](https://www.anaconda.com/)).\n",
        "\n",
        "```\n",
        "In anaconda we will get all types platform to compile Python programme.\n",
        "\n",
        "```"
      ],
      "metadata": {
        "id": "Tk7iV_czzSpN"
      }
    },
    {
      "cell_type": "markdown",
      "source": [
        "# **Python**  \n",
        "Todays session we read about Identifier and comments.    \n",
        "**Identifier**  \n",
        "Identifiers are the name given to variables, classes, methods, etc. For example,\n"
      ],
      "metadata": {
        "id": "NQ3EAB_rE5af"
      }
    },
    {
      "cell_type": "code",
      "source": [
        "a=\"sri\""
      ],
      "metadata": {
        "id": "zN4cI_7aqGJd"
      },
      "execution_count": null,
      "outputs": []
    },
    {
      "cell_type": "markdown",
      "source": [
        "Here \"a\" is an indentifer. We can use any indenty in the place of  \"a\"  \n",
        "**Rules for Naming an Identifier:**  \n",
        "*    Identifiers cannot be a keyword.  \n",
        "*    Identifiers are case-sensitive.\n",
        "*    It can have a sequence of letters and digits. However, it must begin with a letter or _. The first letter of an identifier cannot be a digit.\n",
        "*    It's a convention to start an identifier with a letter rather _.\n",
        "*    Whitespaces are not allowed.\n",
        "*    We cannot use special symbols like !, @, #, $, and so on.\n",
        "\n",
        "Let see some examples.\n"
      ],
      "metadata": {
        "id": "B4ONtUzhqJHh"
      }
    },
    {
      "cell_type": "code",
      "source": [
        "a=\"my name\"\n",
        "print(a)"
      ],
      "metadata": {
        "colab": {
          "base_uri": "https://localhost:8080/"
        },
        "id": "PKAlg7AOq_dk",
        "outputId": "d1dab4e6-9901-485c-df5d-61ab943eba4a"
      },
      "execution_count": 2,
      "outputs": [
        {
          "output_type": "stream",
          "name": "stdout",
          "text": [
            "sridhar\n"
          ]
        }
      ]
    },
    {
      "cell_type": "code",
      "source": [
        "1=\"my name\"\n",
        "print(1)"
      ],
      "metadata": {
        "colab": {
          "base_uri": "https://localhost:8080/",
          "height": 130
        },
        "id": "rQPI5yqVrUa1",
        "outputId": "84711424-a681-4ee6-8734-8fd360d03ba8"
      },
      "execution_count": 3,
      "outputs": [
        {
          "output_type": "error",
          "ename": "SyntaxError",
          "evalue": "ignored",
          "traceback": [
            "\u001b[0;36m  File \u001b[0;32m\"<ipython-input-3-3b54957f679e>\"\u001b[0;36m, line \u001b[0;32m1\u001b[0m\n\u001b[0;31m    1=\"my name\"\u001b[0m\n\u001b[0m    ^\u001b[0m\n\u001b[0;31mSyntaxError\u001b[0m\u001b[0;31m:\u001b[0m cannot assign to literal\n"
          ]
        }
      ]
    },
    {
      "cell_type": "code",
      "source": [
        "_1=\"my name\"\n",
        "print(_1)"
      ],
      "metadata": {
        "colab": {
          "base_uri": "https://localhost:8080/"
        },
        "id": "RmDaSkLgrdqV",
        "outputId": "e0114648-2e1b-4d53-ef7c-bd7c9371bace"
      },
      "execution_count": 4,
      "outputs": [
        {
          "output_type": "stream",
          "name": "stdout",
          "text": [
            "my name\n"
          ]
        }
      ]
    },
    {
      "cell_type": "code",
      "source": [
        "@=\"my name\"\n",
        "print(@)"
      ],
      "metadata": {
        "colab": {
          "base_uri": "https://localhost:8080/",
          "height": 130
        },
        "id": "0g8Gac2yrihT",
        "outputId": "7bdfd4f7-4fa3-44d0-8005-f2566a5b62ba"
      },
      "execution_count": 5,
      "outputs": [
        {
          "output_type": "error",
          "ename": "SyntaxError",
          "evalue": "ignored",
          "traceback": [
            "\u001b[0;36m  File \u001b[0;32m\"<ipython-input-5-41ce6159b581>\"\u001b[0;36m, line \u001b[0;32m1\u001b[0m\n\u001b[0;31m    @=\"my name\"\u001b[0m\n\u001b[0m    ^\u001b[0m\n\u001b[0;31mSyntaxError\u001b[0m\u001b[0;31m:\u001b[0m invalid syntax\n"
          ]
        }
      ]
    },
    {
      "cell_type": "markdown",
      "source": [
        "#**Comments in Python**   \n",
        "comments are use to read the code and To control some error in codes.    \n",
        "**creating a comment**   \n",
        "To write singal line comment we use (**#**)   \n",
        "to write multi line comments we use(**' ' ' we can write what we want ' ' '**) or (**\" \" \" we can write what we want \" \" \"**)    \n",
        "Let we see some examples"
      ],
      "metadata": {
        "id": "TXGYdYpwrwmR"
      }
    },
    {
      "cell_type": "code",
      "source": [
        "# This is a comments\n",
        "print(\"my name!\") "
      ],
      "metadata": {
        "colab": {
          "base_uri": "https://localhost:8080/"
        },
        "id": "r5YrSlY3t7Hh",
        "outputId": "b03cfbe7-0721-43a0-b00a-8b1143fa20b9"
      },
      "execution_count": 6,
      "outputs": [
        {
          "output_type": "stream",
          "name": "stdout",
          "text": [
            "my name!\n"
          ]
        }
      ]
    },
    {
      "cell_type": "code",
      "source": [
        "\"\"\" we can write multi line.\n",
        "By using triple quotes\n",
        "We the compile code with out any errors\"\"\"\n",
        "print(\"my name\")"
      ],
      "metadata": {
        "colab": {
          "base_uri": "https://localhost:8080/"
        },
        "id": "TI1rR9q7uYO3",
        "outputId": "71fca9d2-d266-4573-d9f4-5263e113ce57"
      },
      "execution_count": 7,
      "outputs": [
        {
          "output_type": "stream",
          "name": "stdout",
          "text": [
            "my name\n"
          ]
        }
      ]
    },
    {
      "cell_type": "markdown",
      "source": [
        "Or we can use \"#\" for every line."
      ],
      "metadata": {
        "id": "ML66OKzvvUXB"
      }
    },
    {
      "cell_type": "code",
      "source": [
        "#or\n",
        "#we can write multi line.\n",
        "#By using triple quotes.\n",
        "#We the compile code with out any errors.\n",
        "print(\"my name\")"
      ],
      "metadata": {
        "colab": {
          "base_uri": "https://localhost:8080/"
        },
        "id": "M7ABQPbVvQtG",
        "outputId": "0e5cb027-5aad-48cb-98d0-f58dcaffdd63"
      },
      "execution_count": 8,
      "outputs": [
        {
          "output_type": "stream",
          "name": "stdout",
          "text": [
            "my name\n"
          ]
        }
      ]
    }
  ]
}